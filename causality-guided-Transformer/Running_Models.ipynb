{
 "cells": [
  {
   "cell_type": "markdown",
   "metadata": {
    "id": "uV3JLv9kdmwY"
   },
   "source": [
    "# The following 2 lines of code are helpful every time you need to change directories.\n",
    "\n",
    "Some of the python files require GPU."
   ]
  },
  {
   "cell_type": "code",
   "execution_count": 1,
   "metadata": {
    "colab": {
     "base_uri": "https://localhost:8080/"
    },
    "executionInfo": {
     "elapsed": 21212,
     "status": "ok",
     "timestamp": 1733028382632,
     "user": {
      "displayName": "Maria Jose Healey",
      "userId": "16471264147397077963"
     },
     "user_tz": 360
    },
    "id": "EbsWW_X0bXuf",
    "outputId": "893f902f-544f-4ea9-f33c-0e8d07b3b621"
   },
   "outputs": [
    {
     "name": "stdout",
     "output_type": "stream",
     "text": [
      "Mounted at /content/drive\n"
     ]
    }
   ],
   "source": [
    "from google.colab import drive\n",
    "drive.mount('/content/drive')"
   ]
  },
  {
   "cell_type": "code",
   "execution_count": 2,
   "metadata": {
    "colab": {
     "base_uri": "https://localhost:8080/"
    },
    "executionInfo": {
     "elapsed": 557,
     "status": "ok",
     "timestamp": 1733028385468,
     "user": {
      "displayName": "Maria Jose Healey",
      "userId": "16471264147397077963"
     },
     "user_tz": 360
    },
    "id": "NyXqcFtlbxR9",
    "outputId": "ffde7274-35bd-40f1-d1b9-231d5dcaaa89"
   },
   "outputs": [
    {
     "name": "stdout",
     "output_type": "stream",
     "text": [
      "drive  sample_data\n"
     ]
    }
   ],
   "source": [
    "! ls"
   ]
  },
  {
   "cell_type": "code",
   "execution_count": 3,
   "metadata": {
    "colab": {
     "base_uri": "https://localhost:8080/"
    },
    "executionInfo": {
     "elapsed": 1844,
     "status": "ok",
     "timestamp": 1733028388952,
     "user": {
      "displayName": "Maria Jose Healey",
      "userId": "16471264147397077963"
     },
     "user_tz": 360
    },
    "id": "imB0gpG7byc7",
    "outputId": "2062570b-ab4a-4521-a1bc-2f0ad0e99a0b"
   },
   "outputs": [
    {
     "name": "stdout",
     "output_type": "stream",
     "text": [
      "/content/drive/MyDrive/Colab Notebooks/NLP/project/PC-TES-PROJECT/causality-guided-Transformer\n"
     ]
    }
   ],
   "source": [
    "%cd drive/MyDrive/Colab Notebooks/NLP/project/PC-TES-PROJECT/causality-guided-Transformer"
   ]
  },
  {
   "cell_type": "markdown",
   "metadata": {
    "id": "bdrLydQ0STn2"
   },
   "source": [
    "# Running TES and PAIN Models using MAVEN_ERE data"
   ]
  },
  {
   "cell_type": "code",
   "execution_count": null,
   "metadata": {
    "colab": {
     "base_uri": "https://localhost:8080/"
    },
    "executionInfo": {
     "elapsed": 318339,
     "status": "ok",
     "timestamp": 1732772990738,
     "user": {
      "displayName": "Maria Jose Healey",
      "userId": "16471264147397077963"
     },
     "user_tz": 360
    },
    "id": "iWRX11uEb8Lo",
    "outputId": "1ed2433b-006a-4e4e-ca6a-69f914cfd4ee"
   },
   "outputs": [
    {
     "name": "stdout",
     "output_type": "stream",
     "text": [
      "[Info] parameters: ArgumentParser(prog='TES_MAVEN_ERE.py', usage=None, description=None, formatter_class=<class 'argparse.HelpFormatter'>, conflict_handler='error', add_help=True)\n",
      "[Info] Loading train data...\n",
      "[Info] Loading dev data...\n",
      "[Info] Loading test data...\n",
      "[Info] Number of parameters: 1461563\n",
      "[ Epoch 1 ]\n",
      "  - (Training)     loglikelihood: -1277.0822 ,elapse: 0.352 min\n",
      "  - (validation)  loglikelihood: -19780.3633elapse: 0.075 min\n",
      "  - (test)  loglikelihood: -19933.2871elapse: 0.063 min\n",
      "  - [Info] Maximum validation loglikelihood:-19780.3633 \n",
      "[ Epoch 2 ]\n",
      "  - (Training)     loglikelihood: -42.1600 ,elapse: 0.328 min\n",
      "  - (validation)  loglikelihood: -340.0664elapse: 0.076 min\n",
      "  - (test)  loglikelihood: -339.5497elapse: 0.065 min\n",
      "  - [Info] Maximum validation loglikelihood:-340.0664 \n",
      "[ Epoch 3 ]\n",
      "  - (Training)     loglikelihood: -16.3485 ,elapse: 0.331 min\n",
      "  - (validation)  loglikelihood: -159.2427elapse: 0.073 min\n",
      "  - (test)  loglikelihood: -158.9843elapse: 0.068 min\n",
      "  - [Info] Maximum validation loglikelihood:-159.2427 \n",
      "[ Epoch 4 ]\n",
      "  - (Training)     loglikelihood: -11.7911 ,elapse: 0.347 min\n",
      "  - (validation)  loglikelihood: -132.9966elapse: 0.075 min\n",
      "  - (test)  loglikelihood: -132.8334elapse: 0.066 min\n",
      "  - [Info] Maximum validation loglikelihood:-132.9966 \n",
      "[ Epoch 5 ]\n",
      "  - (Training)     loglikelihood:  -9.7651 ,elapse: 0.336 min\n",
      "  - (validation)  loglikelihood: -123.7595elapse: 0.074 min\n",
      "  - (test)  loglikelihood: -123.6513elapse: 0.066 min\n",
      "  - [Info] Maximum validation loglikelihood:-123.7595 \n",
      "[ Epoch 6 ]\n",
      "  - (Training)     loglikelihood:  -8.6782 ,elapse: 0.335 min\n",
      "  - (validation)  loglikelihood: -119.1483elapse: 0.075 min\n",
      "  - (test)  loglikelihood: -119.0667elapse: 0.066 min\n",
      "  - [Info] Maximum validation loglikelihood:-119.1483 \n",
      "[ Epoch 7 ]\n",
      "  - (Training)     loglikelihood:  -8.0172 ,elapse: 0.336 min\n",
      "  - (validation)  loglikelihood: -116.5870elapse: 0.075 min\n",
      "  - (test)  loglikelihood: -116.5239elapse: 0.066 min\n",
      "  - [Info] Maximum validation loglikelihood:-116.5870 \n",
      "[ Epoch 8 ]\n",
      "  - (Training)     loglikelihood:  -7.6655 ,elapse: 0.336 min\n",
      "  - (validation)  loglikelihood: -114.9360elapse: 0.075 min\n",
      "  - (test)  loglikelihood: -114.8905elapse: 0.066 min\n",
      "  - [Info] Maximum validation loglikelihood:-114.9360 \n",
      "[ Epoch 9 ]\n",
      "  - (Training)     loglikelihood:  -7.3031 ,elapse: 0.335 min\n",
      "  - (validation)  loglikelihood: -113.7969elapse: 0.075 min\n",
      "  - (test)  loglikelihood: -113.7529elapse: 0.066 min\n",
      "  - [Info] Maximum validation loglikelihood:-113.7969 \n",
      "[ Epoch 10 ]\n",
      "  - (Training)     loglikelihood:  -7.1410 ,elapse: 0.337 min\n",
      "  - (validation)  loglikelihood: -113.0053elapse: 0.076 min\n",
      "  - (test)  loglikelihood: -112.9651elapse: 0.065 min\n",
      "  - [Info] Maximum validation loglikelihood:-113.0053 \n"
     ]
    }
   ],
   "source": [
    "!python TES_MAVEN_ERE.py"
   ]
  },
  {
   "cell_type": "code",
   "execution_count": null,
   "metadata": {
    "colab": {
     "base_uri": "https://localhost:8080/"
    },
    "executionInfo": {
     "elapsed": 612226,
     "status": "ok",
     "timestamp": 1732779233806,
     "user": {
      "displayName": "Maria Jose Healey",
      "userId": "16471264147397077963"
     },
     "user_tz": 360
    },
    "id": "wK34XfMij0FB",
    "outputId": "a9b8856c-a342-47a2-ce88-c869b1dbf331"
   },
   "outputs": [
    {
     "name": "stdout",
     "output_type": "stream",
     "text": [
      "[Info] parameters: Namespace(data='data/MAVEN_ERE/', epoch=1, batch_size=64, d_model=512, d_inner=256, d_k=256, d_v=256, n_head=4, n_layers=4, dropout=0.1, lr=0.0001, device=device(type='cuda'))\n",
      "[Info] Loading train data...\n",
      "[Info] Loading dev data...\n",
      "[Info] Loading test data...\n",
      "[Info] Number of parameters: 10360728\n",
      "[ Epoch 1 ]\n",
      "  - (Training)     loglikelihood: -1003.6663 ,elapse: 0.642 min\n",
      "  - (validation)  loglikelihood: -989.0047elapse: 0.098 min\n",
      "  - (test)  loglikelihood: -999.5494elapse: 0.105 min\n",
      "  - [Info] Maximum validation loglikelihood:-989.0047 \n",
      "test log likelihood is -999.5493774414062\n",
      "[ Epoch 1 ]\n",
      "  - (Training)     loglikelihood: -46.6470 ,elapse: 0.635 min\n",
      "  - (validation)  loglikelihood: -228.4391elapse: 0.096 min\n",
      "  - (test)  loglikelihood: -228.1090elapse: 0.105 min\n",
      "  - [Info] Maximum validation loglikelihood:-228.4391 \n",
      "test log likelihood is -228.1089630126953\n",
      "[ Epoch 1 ]\n",
      "  - (Training)     loglikelihood: -16.2616 ,elapse: 0.640 min\n",
      "  - (validation)  loglikelihood: -40.4114elapse: 0.105 min\n",
      "  - (test)  loglikelihood: -40.3415elapse: 0.095 min\n",
      "  - [Info] Maximum validation loglikelihood:-40.4114 \n",
      "test log likelihood is -40.34149932861328\n",
      "[ Epoch 1 ]\n",
      "  - (Training)     loglikelihood: -11.5244 ,elapse: 0.635 min\n",
      "  - (validation)  loglikelihood:  -1.3640elapse: 0.103 min\n",
      "  - (test)  loglikelihood:  -1.3670elapse: 0.095 min\n",
      "  - [Info] Maximum validation loglikelihood: -1.3640 \n",
      "test log likelihood is -1.366978645324707\n",
      "[ Epoch 1 ]\n",
      "  - (Training)     loglikelihood: -10.1189 ,elapse: 0.637 min\n",
      "  - (validation)  loglikelihood:  -2.3960elapse: 0.095 min\n",
      "  - (test)  loglikelihood:  -2.4151elapse: 0.100 min\n",
      "  - [Info] Maximum validation loglikelihood: -2.3960 \n",
      "test log likelihood is -2.4150872230529785\n",
      "[ Epoch 1 ]\n",
      "  - (Training)     loglikelihood:  -9.2566 ,elapse: 0.638 min\n",
      "  - (validation)  loglikelihood:  -1.4415elapse: 0.098 min\n",
      "  - (test)  loglikelihood:  -1.4198elapse: 0.103 min\n",
      "  - [Info] Maximum validation loglikelihood: -1.4415 \n",
      "test log likelihood is -1.4198063611984253\n",
      "[ Epoch 1 ]\n",
      "  - (Training)     loglikelihood:  -8.3854 ,elapse: 0.632 min\n",
      "  - (validation)  loglikelihood:  -1.7877elapse: 0.105 min\n",
      "  - (test)  loglikelihood:  -1.7912elapse: 0.095 min\n",
      "  - [Info] Maximum validation loglikelihood: -1.7877 \n",
      "test log likelihood is -1.791204810142517\n",
      "[ Epoch 1 ]\n",
      "  - (Training)     loglikelihood:  -8.0859 ,elapse: 0.635 min\n",
      "  - (validation)  loglikelihood:  -1.6584elapse: 0.100 min\n",
      "  - (test)  loglikelihood:  -1.6452elapse: 0.095 min\n",
      "  - [Info] Maximum validation loglikelihood: -1.6584 \n",
      "test log likelihood is -1.6452305316925049\n",
      "[ Epoch 1 ]\n",
      "  - (Training)     loglikelihood:  -7.8597 ,elapse: 0.637 min\n",
      "  - (validation)  loglikelihood:  -1.2365elapse: 0.104 min\n",
      "  - (test)  loglikelihood:  -1.2390elapse: 0.102 min\n",
      "  - [Info] Maximum validation loglikelihood: -1.2365 \n",
      "test log likelihood is -1.2390029430389404\n",
      "[ Epoch 1 ]\n",
      "  - (Training)     loglikelihood:  -7.5070 ,elapse: 0.638 min\n",
      "  - (validation)  loglikelihood:  -1.2524elapse: 0.099 min\n",
      "  - (test)  loglikelihood:  -1.2473elapse: 0.103 min\n",
      "  - [Info] Maximum validation loglikelihood: -1.2524 \n",
      "test log likelihood is -1.2473015785217285\n",
      "[ Epoch 1 ]\n",
      "  - (Training)     loglikelihood:  -7.3617 ,elapse: 0.631 min\n",
      "  - (validation)  loglikelihood:  -1.1854elapse: 0.106 min\n",
      "  - (test)  loglikelihood:  -1.1849elapse: 0.096 min\n",
      "  - [Info] Maximum validation loglikelihood: -1.1854 \n",
      "test log likelihood is -1.1849448680877686\n",
      "[ Epoch 1 ]\n",
      "  - (Training)     loglikelihood:  -7.2517 ,elapse: 0.636 min\n",
      "  - (validation)  loglikelihood:  -1.1597elapse: 0.096 min\n",
      "  - (test)  loglikelihood:  -1.1569elapse: 0.100 min\n",
      "  - [Info] Maximum validation loglikelihood: -1.1597 \n",
      "test log likelihood is -1.1569232940673828\n",
      "[ Epoch 1 ]\n",
      "  - (Training)     loglikelihood:  -7.0994 ,elapse: 0.637 min\n",
      "  - (validation)  loglikelihood:  -1.2181elapse: 0.095 min\n",
      "  - (test)  loglikelihood:  -1.2077elapse: 0.104 min\n",
      "  - [Info] Maximum validation loglikelihood: -1.2181 \n",
      "test log likelihood is -1.2076982259750366\n",
      "[ Epoch 1 ]\n",
      "  - (Training)     loglikelihood:  -7.0120 ,elapse: 0.638 min\n",
      "  - (validation)  loglikelihood:  -1.4601elapse: 0.105 min\n",
      "  - (test)  loglikelihood:  -1.4580elapse: 0.095 min\n",
      "  - [Info] Maximum validation loglikelihood: -1.4601 \n",
      "test log likelihood is -1.457991361618042\n",
      "[ Epoch 1 ]\n",
      "  - (Training)     loglikelihood:  -6.9722 ,elapse: 0.637 min\n",
      "  - (validation)  loglikelihood:  -1.1278elapse: 0.095 min\n",
      "  - (test)  loglikelihood:  -1.1271elapse: 0.100 min\n",
      "  - [Info] Maximum validation loglikelihood: -1.1278 \n",
      "test log likelihood is -1.1270880699157715\n",
      "[ Epoch 1 ]\n",
      "  - (Training)     loglikelihood:  -6.8770 ,elapse: 0.642 min\n",
      "  - (validation)  loglikelihood:  -1.0432elapse: 0.098 min\n",
      "  - (test)  loglikelihood:  -1.0422elapse: 0.105 min\n",
      "  - [Info] Maximum validation loglikelihood: -1.0432 \n",
      "test log likelihood is -1.04218327999115\n",
      "[ Epoch 1 ]\n",
      "  - (Training)     loglikelihood:  -6.8284 ,elapse: 0.634 min\n",
      "  - (validation)  loglikelihood:  -1.0484elapse: 0.105 min\n",
      "  - (test)  loglikelihood:  -1.0486elapse: 0.096 min\n",
      "  - [Info] Maximum validation loglikelihood: -1.0484 \n",
      "test log likelihood is -1.048646330833435\n",
      "[ Epoch 1 ]\n",
      "  - (Training)     loglikelihood:  -6.7651 ,elapse: 0.638 min\n",
      "  - (validation)  loglikelihood:  -1.0982elapse: 0.096 min\n",
      "  - (test)  loglikelihood:  -1.0963elapse: 0.101 min\n",
      "  - [Info] Maximum validation loglikelihood: -1.0982 \n",
      "test log likelihood is -1.0963149070739746\n",
      "[ Epoch 1 ]\n",
      "  - (Training)     loglikelihood:  -6.7695 ,elapse: 0.643 min\n",
      "  - (validation)  loglikelihood:  -1.0818elapse: 0.098 min\n",
      "  - (test)  loglikelihood:  -1.0817elapse: 0.103 min\n",
      "  - [Info] Maximum validation loglikelihood: -1.0818 \n",
      "test log likelihood is -1.0817348957061768\n",
      "[ Epoch 1 ]\n",
      "  - (Training)     loglikelihood:  -6.7087 ,elapse: 0.632 min\n",
      "  - (validation)  loglikelihood:  -1.0212elapse: 0.105 min\n",
      "  - (test)  loglikelihood:  -1.0216elapse: 0.096 min\n",
      "  - [Info] Maximum validation loglikelihood: -1.0212 \n",
      "test log likelihood is -1.0215799808502197\n",
      "[ Epoch 1 ]\n",
      "  - (Training)     loglikelihood:  -6.6677 ,elapse: 0.635 min\n",
      "  - (validation)  loglikelihood:  -1.5922elapse: 0.096 min\n",
      "  - (test)  loglikelihood:  -1.5875elapse: 0.102 min\n",
      "  - [Info] Maximum validation loglikelihood: -1.5922 \n",
      "test log likelihood is -1.5874907970428467\n",
      "[ Epoch 1 ]\n",
      "  - (Training)     loglikelihood:  -6.6670 ,elapse: 0.637 min\n",
      "  - (validation)  loglikelihood:  -1.0194elapse: 0.102 min\n",
      "  - (test)  loglikelihood:  -1.0180elapse: 0.098 min\n",
      "  - [Info] Maximum validation loglikelihood: -1.0194 \n",
      "test log likelihood is -1.0179688930511475\n",
      "[ Epoch 1 ]\n",
      "  - (Training)     loglikelihood:  -6.6422 ,elapse: 0.637 min\n",
      "  - (validation)  loglikelihood:  -1.0631elapse: 0.098 min\n",
      "  - (test)  loglikelihood:  -1.0629elapse: 0.104 min\n",
      "  - [Info] Maximum validation loglikelihood: -1.0631 \n",
      "test log likelihood is -1.0628584623336792\n",
      "[ Epoch 1 ]\n",
      "  - (Training)     loglikelihood:  -6.5926 ,elapse: 0.640 min\n",
      "  - (validation)  loglikelihood:  -0.9884elapse: 0.096 min\n",
      "  - (test)  loglikelihood:  -0.9884elapse: 0.104 min\n",
      "  - [Info] Maximum validation loglikelihood: -0.9884 \n",
      "test log likelihood is -0.9883959293365479\n",
      "[ Epoch 1 ]\n",
      "  - (Training)     loglikelihood:  -6.5737 ,elapse: 0.636 min\n",
      "  - (validation)  loglikelihood:  -1.0484elapse: 0.105 min\n",
      "  - (test)  loglikelihood:  -1.0485elapse: 0.096 min\n",
      "  - [Info] Maximum validation loglikelihood: -1.0484 \n",
      "test log likelihood is -1.0485460758209229\n",
      "[ Epoch 1 ]\n",
      "  - (Training)     loglikelihood:  -6.5510 ,elapse: 0.640 min\n",
      "  - (validation)  loglikelihood:  -1.1114elapse: 0.096 min\n",
      "  - (test)  loglikelihood:  -1.1110elapse: 0.100 min\n",
      "  - [Info] Maximum validation loglikelihood: -1.1114 \n",
      "test log likelihood is -1.1110498905181885\n",
      "[ Epoch 1 ]\n",
      "  - (Training)     loglikelihood:  -6.5322 ,elapse: 0.643 min\n",
      "  - (validation)  loglikelihood:  -0.9899elapse: 0.097 min\n",
      "  - (test)  loglikelihood:  -0.9900elapse: 0.104 min\n",
      "  - [Info] Maximum validation loglikelihood: -0.9899 \n",
      "test log likelihood is -0.9900220036506653\n",
      "[ Epoch 1 ]\n",
      "  - (Training)     loglikelihood:  -6.5344 ,elapse: 0.643 min\n",
      "  - (validation)  loglikelihood:  -1.0668elapse: 0.106 min\n",
      "  - (test)  loglikelihood:  -1.0661elapse: 0.096 min\n",
      "  - [Info] Maximum validation loglikelihood: -1.0668 \n",
      "test log likelihood is -1.06610107421875\n",
      "[ Epoch 1 ]\n",
      "  - (Training)     loglikelihood:  -6.5768 ,elapse: 0.640 min\n",
      "  - (validation)  loglikelihood:  -1.0117elapse: 0.097 min\n",
      "  - (test)  loglikelihood:  -1.0115elapse: 0.100 min\n",
      "  - [Info] Maximum validation loglikelihood: -1.0117 \n",
      "test log likelihood is -1.0114964246749878\n",
      "[ Epoch 1 ]\n",
      "  - (Training)     loglikelihood:  -6.4881 ,elapse: 0.639 min\n",
      "  - (validation)  loglikelihood:  -1.0473elapse: 0.098 min\n",
      "  - (test)  loglikelihood:  -1.0474elapse: 0.105 min\n",
      "  - [Info] Maximum validation loglikelihood: -1.0473 \n",
      "test log likelihood is -1.0474250316619873\n",
      "[ Epoch 1 ]\n",
      "  - (Training)     loglikelihood:  -6.4618 ,elapse: 0.633 min\n",
      "  - (validation)  loglikelihood:  -0.9950elapse: 0.106 min\n",
      "  - (test)  loglikelihood:  -0.9951elapse: 0.096 min\n",
      "  - [Info] Maximum validation loglikelihood: -0.9950 \n",
      "test log likelihood is -0.9950535893440247\n",
      "[ Epoch 1 ]\n",
      "  - (Training)     loglikelihood:  -6.4644 ,elapse: 0.640 min\n",
      "  - (validation)  loglikelihood:  -1.1654elapse: 0.096 min\n",
      "  - (test)  loglikelihood:  -1.1652elapse: 0.101 min\n",
      "  - [Info] Maximum validation loglikelihood: -1.1654 \n",
      "test log likelihood is -1.1651694774627686\n",
      "[ Epoch 1 ]\n",
      "  - (Training)     loglikelihood:  -6.4733 ,elapse: 0.645 min\n",
      "  - (validation)  loglikelihood:  -1.2246elapse: 0.096 min\n",
      "  - (test)  loglikelihood:  -1.2199elapse: 0.105 min\n",
      "  - [Info] Maximum validation loglikelihood: -1.2246 \n",
      "Traceback (most recent call last):\n",
      "  File \"/content/drive/MyDrive/Colab Notebooks/NLP/project/PC-TES-PROJECT/causality-guided-Transformer/TES_Main_MAVEN_ERE.py\", line 311, in <module>\n",
      "    main()\n",
      "  File \"/content/drive/MyDrive/Colab Notebooks/NLP/project/PC-TES-PROJECT/causality-guided-Transformer/TES_Main_MAVEN_ERE.py\", line 300, in main\n",
      "    test_ll = eval_epoch(model, testloader, opt, event_interest)\n",
      "  File \"/content/drive/MyDrive/Colab Notebooks/NLP/project/PC-TES-PROJECT/causality-guided-Transformer/TES_Main_MAVEN_ERE.py\", line 99, in eval_epoch\n",
      "    _,_, event_type = map(lambda x: x.to(opt.device), batch)\n",
      "  File \"/content/drive/MyDrive/Colab Notebooks/NLP/project/PC-TES-PROJECT/causality-guided-Transformer/TES_Main_MAVEN_ERE.py\", line 99, in <lambda>\n",
      "    _,_, event_type = map(lambda x: x.to(opt.device), batch)\n",
      "KeyboardInterrupt\n"
     ]
    }
   ],
   "source": [
    "!python TES_Main_MAVEN_ERE.py -data data/MAVEN_ERE/ -epoch 1 -batch_size 64 -d_model 512 -d_inner 256 -d_k 256 -d_v 256 -n_head 4 -n_layers 4 -dropout 0.1 -lr 1e-4"
   ]
  },
  {
   "cell_type": "code",
   "execution_count": null,
   "metadata": {
    "colab": {
     "base_uri": "https://localhost:8080/"
    },
    "executionInfo": {
     "elapsed": 610111,
     "status": "ok",
     "timestamp": 1732773664706,
     "user": {
      "displayName": "Maria Jose Healey",
      "userId": "16471264147397077963"
     },
     "user_tz": 360
    },
    "id": "cyJgxLGDb_dw",
    "outputId": "1518175c-a36a-4cc8-a935-5f7cfcacc3ee"
   },
   "outputs": [
    {
     "name": "stdout",
     "output_type": "stream",
     "text": [
      "[Info] parameters: ArgumentParser(prog='PAIN_MAVEN_ERE.py', usage=None, description=None, formatter_class=<class 'argparse.HelpFormatter'>, conflict_handler='error', add_help=True)\n",
      "[Info] Loading train data...\n",
      "[Info] Loading dev data...\n",
      "[Info] Loading test data...\n",
      "[Info] Loading prior ...\n",
      "[Info] Number of parameters: 728792\n",
      "[ Epoch 1 ]\n",
      "  - (Training)     KL:  71869.9906, loglikelihood: -3776.5544 ,elapse: 0.704 min\n",
      "  - (validation)  loglikelihood: -69245.4609elapse: 0.164 min\n",
      "  - (test)  loglikelihood: -69894.3594elapse: 0.149 min\n",
      "  - [Info] Maximum validation loglikelihood:-69245.4609 \n",
      "[ Epoch 2 ]\n",
      "  - (Training)     KL:  71277.4537, loglikelihood: -3286.2993 ,elapse: 0.684 min\n",
      "  - (validation)  loglikelihood: -58112.1953elapse: 0.167 min\n",
      "  - (test)  loglikelihood: -58628.0781elapse: 0.148 min\n",
      "  - [Info] Maximum validation loglikelihood:-58112.1953 \n",
      "[ Epoch 3 ]\n",
      "  - (Training)     KL:  70687.8913, loglikelihood: -2599.5259 ,elapse: 0.686 min\n",
      "  - (validation)  loglikelihood: -45461.6406elapse: 0.166 min\n",
      "  - (test)  loglikelihood: -45879.9102elapse: 0.150 min\n",
      "  - [Info] Maximum validation loglikelihood:-45461.6406 \n",
      "[ Epoch 4 ]\n",
      "  - (Training)     KL:  70101.2318, loglikelihood: -1771.9355 ,elapse: 0.664 min\n",
      "  - (validation)  loglikelihood: -30065.4082elapse: 0.156 min\n",
      "  - (test)  loglikelihood: -30332.1191elapse: 0.146 min\n",
      "  - [Info] Maximum validation loglikelihood:-30065.4082 \n",
      "[ Epoch 5 ]\n",
      "  - (Training)     KL:  69517.1101, loglikelihood: -976.1205 ,elapse: 0.692 min\n",
      "  - (validation)  loglikelihood: -15049.4346elapse: 0.165 min\n",
      "  - (test)  loglikelihood: -15155.6006elapse: 0.147 min\n",
      "  - [Info] Maximum validation loglikelihood:-15049.4346 \n",
      "[ Epoch 6 ]\n",
      "  - (Training)     KL:  68933.6622, loglikelihood: -485.7958 ,elapse: 0.672 min\n",
      "  - (validation)  loglikelihood: -6313.9150elapse: 0.164 min\n",
      "  - (test)  loglikelihood: -6355.9829elapse: 0.148 min\n",
      "  - [Info] Maximum validation loglikelihood:-6313.9150 \n",
      "[ Epoch 7 ]\n",
      "  - (Training)     KL:  68347.7266, loglikelihood: -260.3310 ,elapse: 0.666 min\n",
      "  - (validation)  loglikelihood: -2812.8650elapse: 0.150 min\n",
      "  - (test)  loglikelihood: -2822.0552elapse: 0.149 min\n",
      "  - [Info] Maximum validation loglikelihood:-2812.8650 \n",
      "[ Epoch 8 ]\n",
      "  - (Training)     KL:  67756.0439, loglikelihood: -158.1878 ,elapse: 0.671 min\n",
      "  - (validation)  loglikelihood: -1573.8866elapse: 0.165 min\n",
      "  - (test)  loglikelihood: -1584.4587elapse: 0.151 min\n",
      "  - [Info] Maximum validation loglikelihood:-1573.8866 \n",
      "[ Epoch 9 ]\n",
      "  - (Training)     KL:  67140.5832, loglikelihood: -111.7932 ,elapse: 0.683 min\n",
      "  - (validation)  loglikelihood: -1047.4806elapse: 0.167 min\n",
      "  - (test)  loglikelihood: -1050.4576elapse: 0.153 min\n",
      "  - [Info] Maximum validation loglikelihood:-1047.4806 \n",
      "[ Epoch 10 ]\n",
      "  - (Training)     KL:  66498.1971, loglikelihood: -88.9582 ,elapse: 0.701 min\n",
      "  - (validation)  loglikelihood: -812.9094elapse: 0.166 min\n",
      "  - (test)  loglikelihood: -807.8773elapse: 0.151 min\n",
      "  - [Info] Maximum validation loglikelihood:-812.9094 \n"
     ]
    }
   ],
   "source": [
    "!python PAIN_MAVEN_ERE.py"
   ]
  },
  {
   "cell_type": "code",
   "execution_count": 8,
   "metadata": {
    "colab": {
     "base_uri": "https://localhost:8080/"
    },
    "executionInfo": {
     "elapsed": 1064303,
     "status": "ok",
     "timestamp": 1733030204380,
     "user": {
      "displayName": "Maria Jose Healey",
      "userId": "16471264147397077963"
     },
     "user_tz": 360
    },
    "id": "Jy9QaByJr4CJ",
    "outputId": "bdf34c74-8905-4286-b76a-53a3c42e7c84"
   },
   "outputs": [
    {
     "name": "stdout",
     "output_type": "stream",
     "text": [
      "[Info] parameters: Namespace(data='data/MAVEN_ERE/', prior='prior/MAVEN_ERE/sparse/', epoch=1, batch_size=16, d_model=512, d_inner=256, d_k=256, d_v=256, n_head=4, n_layers=4, dropout=0.1, lr=0.0001, num_samples=1, event_interest=1, threshold=0.5, device=device(type='cuda'))\n",
      "[Info] Loading train data...\n",
      "[Info] Loading dev data...\n",
      "[Info] Loading test data...\n",
      "[Info] Loading prior ...\n",
      "[Info] Number of parameters: 10360728\n",
      "threshold is 0.4 ; Event interest is 1\n",
      "[ Epoch 1 ]\n",
      "  - (Training)     KL:   0.6302, loglikelihood: -12.5357 ,elapse: 1.284 min\n",
      "  - (validation)  loglikelihood:  -2.7662elapse: 0.211 min\n",
      "  - (test)  loglikelihood:  -2.7829elapse: 0.213 min\n",
      "  - [Info] Maximum validation loglikelihood: -2.7662 \n",
      "test log likelihood is -2.7828571796417236\n",
      "threshold is 0.4 ; Event interest is 2\n",
      "[ Epoch 1 ]\n",
      "  - (Training)     KL:   0.0349, loglikelihood:  -8.4424 ,elapse: 1.258 min\n",
      "  - (validation)  loglikelihood: -25.0502elapse: 0.212 min\n",
      "  - (test)  loglikelihood: -25.0530elapse: 0.214 min\n",
      "  - [Info] Maximum validation loglikelihood:-25.0502 \n",
      "test log likelihood is -25.05303382873535\n",
      "threshold is 0.4 ; Event interest is 3\n",
      "[ Epoch 1 ]\n",
      "  - (Training)     KL:   0.0097, loglikelihood:  -7.4540 ,elapse: 1.263 min\n",
      "  - (validation)  loglikelihood:  -4.8634elapse: 0.198 min\n",
      "  - (test)  loglikelihood:  -4.8562elapse: 0.199 min\n",
      "  - [Info] Maximum validation loglikelihood: -4.8634 \n",
      "test log likelihood is -4.856186866760254\n",
      "threshold is 0.4 ; Event interest is 4\n",
      "[ Epoch 1 ]\n",
      "  - (Training)     KL:  28.9999, loglikelihood:  -6.8412 ,elapse: 1.257 min\n",
      "  - (validation)  loglikelihood:  -1.0414elapse: 0.215 min\n",
      "  - (test)  loglikelihood:  -1.0414elapse: 0.217 min\n",
      "  - [Info] Maximum validation loglikelihood: -1.0414 \n",
      "test log likelihood is -1.0413742065429688\n",
      "threshold is 0.4 ; Event interest is 5\n",
      "[ Epoch 1 ]\n",
      "  - (Training)     KL:   0.2604, loglikelihood:  -6.7604 ,elapse: 1.261 min\n",
      "  - (validation)  loglikelihood:  -1.1697elapse: 0.210 min\n",
      "  - (test)  loglikelihood:  -1.1718elapse: 0.209 min\n",
      "  - [Info] Maximum validation loglikelihood: -1.1697 \n",
      "test log likelihood is -1.1717783212661743\n",
      "threshold is 0.4 ; Event interest is 6\n",
      "[ Epoch 1 ]\n",
      "  - (Training)     KL:   0.0439, loglikelihood:  -6.6763 ,elapse: 1.261 min\n",
      "  - (validation)  loglikelihood:  -1.0366elapse: 0.206 min\n",
      "  - (test)  loglikelihood:  -1.0359elapse: 0.215 min\n",
      "  - [Info] Maximum validation loglikelihood: -1.0366 \n",
      "test log likelihood is -1.0358961820602417\n",
      "threshold is 0.4 ; Event interest is 7\n",
      "[ Epoch 1 ]\n",
      "  - (Training)     KL:   0.1047, loglikelihood:  -6.5885 ,elapse: 1.232 min\n",
      "  - (validation)  loglikelihood:  -1.0944elapse: 0.192 min\n",
      "  - (test)  loglikelihood:  -1.0950elapse: 0.210 min\n",
      "  - [Info] Maximum validation loglikelihood: -1.0944 \n",
      "test log likelihood is -1.094987392425537\n",
      "threshold is 0.4 ; Event interest is 8\n",
      "[ Epoch 1 ]\n",
      "  - (Training)     KL:   0.0157, loglikelihood:  -6.6067 ,elapse: 1.239 min\n",
      "  - (validation)  loglikelihood:  -1.1339elapse: 0.216 min\n",
      "  - (test)  loglikelihood:  -1.1319elapse: 0.217 min\n",
      "  - [Info] Maximum validation loglikelihood: -1.1339 \n",
      "test log likelihood is -1.1318833827972412\n",
      "threshold is 0.4 ; Event interest is 9\n",
      "[ Epoch 1 ]\n",
      "  - (Training)   :  64% 68/106 [00:47<00:26,  1.44it/s]Exception ignored in: <function _MultiProcessingDataLoaderIter.__del__ at 0x7d42b3c0a440>\n",
      "Traceback (most recent call last):\n",
      "  File \"/usr/local/lib/python3.10/dist-packages/torch/utils/data/dataloader.py\", line 1603, in __del__\n",
      "    def __del__(self):\n",
      "KeyboardInterrupt: \n",
      "Traceback (most recent call last):\n",
      "  File \"/content/drive/MyDrive/Colab Notebooks/NLP/project/PC-TES-PROJECT/causality-guided-Transformer/PAIN_Main_MAVEN_ERE.py\", line 355, in <module>\n",
      "    main()\n",
      "  File \"/content/drive/MyDrive/Colab Notebooks/NLP/project/PC-TES-PROJECT/causality-guided-Transformer/PAIN_Main_MAVEN_ERE.py\", line 335, in main\n",
      "    best_model = train(model, trainloader, devloader, testloader, optimizer, scheduler, opt, prior , event_interest, threshold)\n",
      "  File \"/content/drive/MyDrive/Colab Notebooks/NLP/project/PC-TES-PROJECT/causality-guided-Transformer/PAIN_Main_MAVEN_ERE.py\", line 171, in train\n",
      "    train_event,train_ll = train_epoch(model, training_data, optimizer, opt, prior)\n",
      "  File \"/content/drive/MyDrive/Colab Notebooks/NLP/project/PC-TES-PROJECT/causality-guided-Transformer/PAIN_Main_MAVEN_ERE.py\", line 78, in train_epoch\n",
      "    output, _, relation = model(event_type_0, opt.num_samples, opt.event_interest, opt.threshold)\n",
      "  File \"/usr/local/lib/python3.10/dist-packages/torch/nn/modules/module.py\", line 1736, in _wrapped_call_impl\n",
      "    return self._call_impl(*args, **kwargs)\n",
      "  File \"/usr/local/lib/python3.10/dist-packages/torch/nn/modules/module.py\", line 1747, in _call_impl\n",
      "    return forward_call(*args, **kwargs)\n",
      "  File \"/content/drive/MyDrive/Colab Notebooks/NLP/project/PC-TES-PROJECT/causality-guided-Transformer/transformer/Models_ll.py\", line 169, in forward\n",
      "    output, attn_weights = self.encoder(event_type, torch.ones((event_type.shape[0],self.n_head,event_type.shape[1],event_type.shape[1])).to(self.device), non_pad_mask)\n",
      "KeyboardInterrupt\n"
     ]
    }
   ],
   "source": [
    "!python PAIN_Main_MAVEN_ERE.py -data data/MAVEN_ERE/ -prior prior/MAVEN_ERE/sparse/ -epoch 1 -batch_size 16 -d_model 512 -d_inner 256 -d_k 256 -d_v 256 -n_head 4 -n_layers 4 -dropout 0.1 -lr 1e-4 -num_samples 1"
   ]
  }
 ],
 "metadata": {
  "accelerator": "GPU",
  "colab": {
   "authorship_tag": "ABX9TyPSrgiNO16vrZ7WOWuA5mAd",
   "gpuType": "T4",
   "provenance": [
    {
     "file_id": "1FIBAZjBsyO76DTIB779lK3pEc5X-og7I",
     "timestamp": 1732768068338
    }
   ]
  },
  "kernelspec": {
   "display_name": "266-project",
   "language": "python",
   "name": "python3"
  },
  "language_info": {
   "name": "python",
   "version": "3.11.10"
  }
 },
 "nbformat": 4,
 "nbformat_minor": 0
}
