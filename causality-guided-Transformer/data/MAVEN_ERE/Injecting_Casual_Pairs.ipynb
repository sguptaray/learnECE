{
  "nbformat": 4,
  "nbformat_minor": 0,
  "metadata": {
    "colab": {
      "provenance": []
    },
    "kernelspec": {
      "name": "python3",
      "display_name": "Python 3"
    },
    "language_info": {
      "name": "python"
    }
  },
  "cells": [
    {
      "cell_type": "code",
      "execution_count": null,
      "metadata": {
        "id": "9DkcA6wWQ7Jw"
      },
      "outputs": [],
      "source": [
        "import numpy as np\n",
        "import json\n",
        "import pandas as pd\n",
        "import pprint\n",
        "from json import loads, dumps\n",
        "import itertools\n",
        "import random\n",
        "from sklearn.model_selection import train_test_split\n",
        "import pickle"
      ]
    },
    {
      "cell_type": "code",
      "source": [
        "from google.colab import drive\n",
        "drive.mount('/content/drive')"
      ],
      "metadata": {
        "colab": {
          "base_uri": "https://localhost:8080/"
        },
        "id": "2O9KyCa-RH2M",
        "outputId": "4ed2cc7a-9cb6-463a-f484-9bedc0e0f921"
      },
      "execution_count": null,
      "outputs": [
        {
          "output_type": "stream",
          "name": "stdout",
          "text": [
            "Mounted at /content/drive\n"
          ]
        }
      ]
    },
    {
      "cell_type": "code",
      "source": [
        "%cd drive/MyDrive/Colab Notebooks/NLP/project/PC-TES-PROJECT/causality-guided-Transformer/data/MAVEN_ERE"
      ],
      "metadata": {
        "colab": {
          "base_uri": "https://localhost:8080/"
        },
        "id": "U1HV0QzZRLIj",
        "outputId": "dd74331f-b2f6-4522-cd06-6fd17c362a1c"
      },
      "execution_count": null,
      "outputs": [
        {
          "output_type": "stream",
          "name": "stdout",
          "text": [
            "/content/drive/MyDrive/Colab Notebooks/NLP/project/PC-TES-PROJECT/causality-guided-Transformer/data/MAVEN_ERE\n"
          ]
        }
      ]
    },
    {
      "cell_type": "code",
      "source": [
        "with open('maven_ere_seq.pkl', 'rb') as f:\n",
        "    maven_ere = pickle.load(f)"
      ],
      "metadata": {
        "id": "InS8fgumRPmg"
      },
      "execution_count": null,
      "outputs": []
    },
    {
      "cell_type": "code",
      "source": [
        "# print values for the first key\n",
        "pprint.pp(maven_ere[next(iter(maven_ere))])"
      ],
      "metadata": {
        "colab": {
          "base_uri": "https://localhost:8080/"
        },
        "id": "jQ19J4a1RVzH",
        "outputId": "94647d49-625a-474d-ddf7-959bb27d1e14"
      },
      "execution_count": null,
      "outputs": [
        {
          "output_type": "stream",
          "name": "stdout",
          "text": [
            "['bolster conquer',\n",
            " 'Expedition end',\n",
            " 'bolster achieve',\n",
            " 'bolster venture',\n",
            " 'Expedition achieve',\n",
            " 'bolster sailed',\n",
            " 'decided venture',\n",
            " 'bolster distribution',\n",
            " 'bolster Expedition',\n",
            " 'bolster landed',\n",
            " 'Expedition distribution',\n",
            " 'bolster end',\n",
            " 'landed conquer',\n",
            " 'plebiscite brought']\n"
          ]
        }
      ]
    },
    {
      "cell_type": "markdown",
      "source": [
        "# Inject causal pairs"
      ],
      "metadata": {
        "id": "YC3mwSyVTcgX"
      }
    },
    {
      "cell_type": "markdown",
      "source": [
        "# Decide on what and how many causal pairs to inject to which documents"
      ],
      "metadata": {
        "id": "a5e4rcHDy0tc"
      }
    },
    {
      "cell_type": "code",
      "source": [
        "injected_maven_ere ="
      ],
      "metadata": {
        "id": "oFz6u_57TgfW"
      },
      "execution_count": null,
      "outputs": []
    },
    {
      "cell_type": "markdown",
      "source": [
        "# Split Data into train,test,dev (60/20/20)"
      ],
      "metadata": {
        "id": "01nmERIFRWMn"
      }
    },
    {
      "cell_type": "code",
      "source": [
        "def split_dict(data, train_size=0.6, test_size=0.2, dev_size=0.2):\n",
        "    \"\"\"Splits a dictionary into train, test, and dev sets.\"\"\"\n",
        "\n",
        "    # Convert dictionary to list of key-value pairs\n",
        "    items = list(data.items())\n",
        "\n",
        "    # Shuffle the items randomly\n",
        "    random.shuffle(items)\n",
        "\n",
        "    # Split into train and test+dev\n",
        "    train_items, test_dev_items = train_test_split(items, train_size=train_size)\n",
        "\n",
        "    # Split test+dev into test and dev\n",
        "    test_items, dev_items = train_test_split(test_dev_items, test_size=test_size / (test_size + dev_size))\n",
        "\n",
        "    # Convert back to dictionaries\n",
        "    train_data = dict(train_items)\n",
        "    test_data = dict(test_items)\n",
        "    dev_data = dict(dev_items)\n",
        "\n",
        "    return train_data, test_data, dev_data"
      ],
      "metadata": {
        "id": "pLN9VxQzRXGu"
      },
      "execution_count": null,
      "outputs": []
    },
    {
      "cell_type": "code",
      "source": [
        "# Convert dictionary to DataFrame\n",
        "MAVEN_ERE_injected_train, MAVEN_ERE_injected_test, MAVEN_ERE_injected_dev= split_dict(injected_maven_ere,0.6,0.2,0.2)"
      ],
      "metadata": {
        "id": "4HJ1VgOSRbjW"
      },
      "execution_count": null,
      "outputs": []
    },
    {
      "cell_type": "code",
      "source": [
        "# Get first N items in dictionary\n",
        "pprint.pp( dict(itertools.islice(MAVEN_ERE_injected_train.items(), 3)) )"
      ],
      "metadata": {
        "id": "Gw8OYGsERe58"
      },
      "execution_count": null,
      "outputs": []
    },
    {
      "cell_type": "code",
      "source": [],
      "metadata": {
        "id": "7lpgDTxMRj0P"
      },
      "execution_count": null,
      "outputs": []
    },
    {
      "cell_type": "markdown",
      "source": [
        "# Save Pickle files"
      ],
      "metadata": {
        "id": "5LAYE7dSRoSa"
      }
    },
    {
      "cell_type": "code",
      "source": [
        "directory_path = '/content/drive/MyDrive/Colab Notebooks/NLP/project/PC-TES-PROJECT/causality-guided-Transformer/data/MAVEN_ERE/splits/'"
      ],
      "metadata": {
        "id": "1gzDTUtIRtrO"
      },
      "execution_count": null,
      "outputs": []
    },
    {
      "cell_type": "code",
      "source": [
        "# Save the MAVEN_ERE_train dictionary to a pickle file\n",
        "with open(directory_path + 'maven_ere_injected_seq_train.pkl', 'wb') as f:\n",
        "    pickle.dump(MAVEN_ERE_injected_train, f)"
      ],
      "metadata": {
        "id": "0CA3ikqIRpM_"
      },
      "execution_count": null,
      "outputs": []
    },
    {
      "cell_type": "code",
      "source": [
        "# Save the MAVEN_ERE_test dictionary to a pickle file\n",
        "with open(directory_path + 'maven_ere_injected_seq_test.pkl', 'wb') as f:\n",
        "    pickle.dump(MAVEN_ERE_injected_test, f)"
      ],
      "metadata": {
        "id": "ZTWkRe3gR0qU"
      },
      "execution_count": null,
      "outputs": []
    },
    {
      "cell_type": "code",
      "source": [
        "# Save the MAVEN_ERE_dev dictionary to a pickle file\n",
        "with open(directory_path + 'maven_ere_injected_seq_dev.pkl', 'wb') as f:\n",
        "    pickle.dump(MAVEN_ERE_injected_dev, f)"
      ],
      "metadata": {
        "id": "tUjkeOKGR4vz"
      },
      "execution_count": null,
      "outputs": []
    },
    {
      "cell_type": "code",
      "source": [],
      "metadata": {
        "id": "-9ttnd6G0L6v"
      },
      "execution_count": null,
      "outputs": []
    },
    {
      "cell_type": "markdown",
      "source": [
        "# Generate event streams"
      ],
      "metadata": {
        "id": "JO3a_6ID0M38"
      }
    },
    {
      "cell_type": "markdown",
      "source": [
        "# Use code from the Generate_MAVEN_ERE_Streams notebook"
      ],
      "metadata": {
        "id": "PSdn9Q6t29S6"
      }
    },
    {
      "cell_type": "code",
      "source": [],
      "metadata": {
        "id": "mx6i3w4u0Sc9"
      },
      "execution_count": null,
      "outputs": []
    },
    {
      "cell_type": "markdown",
      "source": [
        "# Save Picke files to have the injected train,dev,test from the generated streams"
      ],
      "metadata": {
        "id": "cQ1kiwm70TWw"
      }
    },
    {
      "cell_type": "code",
      "source": [],
      "metadata": {
        "id": "9yRLhom60YSa"
      },
      "execution_count": null,
      "outputs": []
    }
  ]
}