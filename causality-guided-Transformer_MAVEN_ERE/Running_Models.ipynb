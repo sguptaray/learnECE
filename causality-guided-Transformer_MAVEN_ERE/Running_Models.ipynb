{
  "cells": [
    {
      "cell_type": "markdown",
      "metadata": {
        "id": "uV3JLv9kdmwY"
      },
      "source": [
        "# The following 2 lines of code are helpful every time you need to change directories.\n",
        "\n",
        "Some of the python files require GPU."
      ]
    },
    {
      "cell_type": "code",
      "execution_count": null,
      "metadata": {
        "colab": {
          "base_uri": "https://localhost:8080/"
        },
        "id": "EbsWW_X0bXuf",
        "outputId": "a06cbc59-3e5d-4578-d221-a1eaac4cc5b9"
      },
      "outputs": [
        {
          "name": "stdout",
          "output_type": "stream",
          "text": [
            "Mounted at /content/drive\n"
          ]
        }
      ],
      "source": [
        "from google.colab import drive\n",
        "drive.mount('/content/drive')"
      ]
    },
    {
      "cell_type": "code",
      "execution_count": null,
      "metadata": {
        "colab": {
          "base_uri": "https://localhost:8080/"
        },
        "id": "NyXqcFtlbxR9",
        "outputId": "432213a0-6c69-401d-abe8-7aff4c60e592"
      },
      "outputs": [
        {
          "name": "stdout",
          "output_type": "stream",
          "text": [
            "drive  sample_data\n"
          ]
        }
      ],
      "source": [
        "! ls"
      ]
    },
    {
      "cell_type": "code",
      "execution_count": null,
      "metadata": {
        "colab": {
          "base_uri": "https://localhost:8080/"
        },
        "id": "imB0gpG7byc7",
        "outputId": "9442b193-f4eb-4f2c-ebd9-efc49549b6de"
      },
      "outputs": [
        {
          "name": "stdout",
          "output_type": "stream",
          "text": [
            "/content/drive/MyDrive/Colab Notebooks/NLP/project/PC-TES-PROJECT/causality-guided-Transformer\n"
          ]
        }
      ],
      "source": [
        "%cd drive/MyDrive/Colab Notebooks/NLP/project/PC-TES-PROJECT/causality-guided-Transformer"
      ]
    },
    {
      "cell_type": "markdown",
      "metadata": {
        "id": "bdrLydQ0STn2"
      },
      "source": [
        "# Running TES and PAIN Models using MAVEN_ERE data"
      ]
    },
    {
      "cell_type": "code",
      "execution_count": null,
      "metadata": {
        "colab": {
          "base_uri": "https://localhost:8080/"
        },
        "id": "iWRX11uEb8Lo",
        "outputId": "1ed2433b-006a-4e4e-ca6a-69f914cfd4ee"
      },
      "outputs": [
        {
          "name": "stdout",
          "output_type": "stream",
          "text": [
            "[Info] parameters: ArgumentParser(prog='TES_MAVEN_ERE.py', usage=None, description=None, formatter_class=<class 'argparse.HelpFormatter'>, conflict_handler='error', add_help=True)\n",
            "[Info] Loading train data...\n",
            "[Info] Loading dev data...\n",
            "[Info] Loading test data...\n",
            "[Info] Number of parameters: 1461563\n",
            "[ Epoch 1 ]\n",
            "  - (Training)     loglikelihood: -1277.0822 ,elapse: 0.352 min\n",
            "  - (validation)  loglikelihood: -19780.3633elapse: 0.075 min\n",
            "  - (test)  loglikelihood: -19933.2871elapse: 0.063 min\n",
            "  - [Info] Maximum validation loglikelihood:-19780.3633 \n",
            "[ Epoch 2 ]\n",
            "  - (Training)     loglikelihood: -42.1600 ,elapse: 0.328 min\n",
            "  - (validation)  loglikelihood: -340.0664elapse: 0.076 min\n",
            "  - (test)  loglikelihood: -339.5497elapse: 0.065 min\n",
            "  - [Info] Maximum validation loglikelihood:-340.0664 \n",
            "[ Epoch 3 ]\n",
            "  - (Training)     loglikelihood: -16.3485 ,elapse: 0.331 min\n",
            "  - (validation)  loglikelihood: -159.2427elapse: 0.073 min\n",
            "  - (test)  loglikelihood: -158.9843elapse: 0.068 min\n",
            "  - [Info] Maximum validation loglikelihood:-159.2427 \n",
            "[ Epoch 4 ]\n",
            "  - (Training)     loglikelihood: -11.7911 ,elapse: 0.347 min\n",
            "  - (validation)  loglikelihood: -132.9966elapse: 0.075 min\n",
            "  - (test)  loglikelihood: -132.8334elapse: 0.066 min\n",
            "  - [Info] Maximum validation loglikelihood:-132.9966 \n",
            "[ Epoch 5 ]\n",
            "  - (Training)     loglikelihood:  -9.7651 ,elapse: 0.336 min\n",
            "  - (validation)  loglikelihood: -123.7595elapse: 0.074 min\n",
            "  - (test)  loglikelihood: -123.6513elapse: 0.066 min\n",
            "  - [Info] Maximum validation loglikelihood:-123.7595 \n",
            "[ Epoch 6 ]\n",
            "  - (Training)     loglikelihood:  -8.6782 ,elapse: 0.335 min\n",
            "  - (validation)  loglikelihood: -119.1483elapse: 0.075 min\n",
            "  - (test)  loglikelihood: -119.0667elapse: 0.066 min\n",
            "  - [Info] Maximum validation loglikelihood:-119.1483 \n",
            "[ Epoch 7 ]\n",
            "  - (Training)     loglikelihood:  -8.0172 ,elapse: 0.336 min\n",
            "  - (validation)  loglikelihood: -116.5870elapse: 0.075 min\n",
            "  - (test)  loglikelihood: -116.5239elapse: 0.066 min\n",
            "  - [Info] Maximum validation loglikelihood:-116.5870 \n",
            "[ Epoch 8 ]\n",
            "  - (Training)     loglikelihood:  -7.6655 ,elapse: 0.336 min\n",
            "  - (validation)  loglikelihood: -114.9360elapse: 0.075 min\n",
            "  - (test)  loglikelihood: -114.8905elapse: 0.066 min\n",
            "  - [Info] Maximum validation loglikelihood:-114.9360 \n",
            "[ Epoch 9 ]\n",
            "  - (Training)     loglikelihood:  -7.3031 ,elapse: 0.335 min\n",
            "  - (validation)  loglikelihood: -113.7969elapse: 0.075 min\n",
            "  - (test)  loglikelihood: -113.7529elapse: 0.066 min\n",
            "  - [Info] Maximum validation loglikelihood:-113.7969 \n",
            "[ Epoch 10 ]\n",
            "  - (Training)     loglikelihood:  -7.1410 ,elapse: 0.337 min\n",
            "  - (validation)  loglikelihood: -113.0053elapse: 0.076 min\n",
            "  - (test)  loglikelihood: -112.9651elapse: 0.065 min\n",
            "  - [Info] Maximum validation loglikelihood:-113.0053 \n"
          ]
        }
      ],
      "source": [
        "!python TES_MAVEN_ERE.py"
      ]
    },
    {
      "cell_type": "code",
      "execution_count": null,
      "metadata": {
        "colab": {
          "base_uri": "https://localhost:8080/"
        },
        "id": "O51uLWE445q5",
        "outputId": "528bdc40-025e-4441-91d7-b5863f58fabb"
      },
      "outputs": [
        {
          "name": "stdout",
          "output_type": "stream",
          "text": [
            "[Info] parameters: Namespace(data='data/MAVEN_ERE/', epoch=1, batch_size=32, d_model=512, d_inner=256, d_k=256, d_v=256, n_head=4, n_layers=4, dropout=0.1, lr=0.0001, event_interest=1, device=device(type='cuda'))\n",
            "[Info] Loading train data...\n",
            "[Info] Loading dev data...\n",
            "[Info] Loading test data...\n",
            "[Info] Number of parameters: 10360728\n",
            "[ Epoch 1 ]\n",
            "  - (Training)                loglikelihood: -50.6220, elapse: 0.606 min\n",
            "  - (Validation)              loglikelihood: -16.3082, elapse: 0.094 min\n",
            "  - (Test)                    loglikelihood: -16.3772, elapse: 0.104 min\n",
            "  - [Info] Maximum validation loglikelihood: -16.3082 \n",
            "test log likelihood is -16.37722396850586\n",
            "total training time is 70.81412291526794\n"
          ]
        }
      ],
      "source": [
        "!python TES_Main_MAVEN_ERE.py -data data/MAVEN_ERE/ -epoch 1 -batch_size 32 -d_model 512 -d_inner 256 -d_k 256 -d_v 256 -n_head 4 -n_layers 4 -dropout 0.1 -lr 1e-4 -event_interest 1"
      ]
    },
    {
      "cell_type": "code",
      "execution_count": null,
      "metadata": {
        "colab": {
          "base_uri": "https://localhost:8080/"
        },
        "id": "cyJgxLGDb_dw",
        "outputId": "1518175c-a36a-4cc8-a935-5f7cfcacc3ee"
      },
      "outputs": [
        {
          "name": "stdout",
          "output_type": "stream",
          "text": [
            "[Info] parameters: ArgumentParser(prog='PAIN_MAVEN_ERE.py', usage=None, description=None, formatter_class=<class 'argparse.HelpFormatter'>, conflict_handler='error', add_help=True)\n",
            "[Info] Loading train data...\n",
            "[Info] Loading dev data...\n",
            "[Info] Loading test data...\n",
            "[Info] Loading prior ...\n",
            "[Info] Number of parameters: 728792\n",
            "[ Epoch 1 ]\n",
            "  - (Training)     KL:  71869.9906, loglikelihood: -3776.5544 ,elapse: 0.704 min\n",
            "  - (validation)  loglikelihood: -69245.4609elapse: 0.164 min\n",
            "  - (test)  loglikelihood: -69894.3594elapse: 0.149 min\n",
            "  - [Info] Maximum validation loglikelihood:-69245.4609 \n",
            "[ Epoch 2 ]\n",
            "  - (Training)     KL:  71277.4537, loglikelihood: -3286.2993 ,elapse: 0.684 min\n",
            "  - (validation)  loglikelihood: -58112.1953elapse: 0.167 min\n",
            "  - (test)  loglikelihood: -58628.0781elapse: 0.148 min\n",
            "  - [Info] Maximum validation loglikelihood:-58112.1953 \n",
            "[ Epoch 3 ]\n",
            "  - (Training)     KL:  70687.8913, loglikelihood: -2599.5259 ,elapse: 0.686 min\n",
            "  - (validation)  loglikelihood: -45461.6406elapse: 0.166 min\n",
            "  - (test)  loglikelihood: -45879.9102elapse: 0.150 min\n",
            "  - [Info] Maximum validation loglikelihood:-45461.6406 \n",
            "[ Epoch 4 ]\n",
            "  - (Training)     KL:  70101.2318, loglikelihood: -1771.9355 ,elapse: 0.664 min\n",
            "  - (validation)  loglikelihood: -30065.4082elapse: 0.156 min\n",
            "  - (test)  loglikelihood: -30332.1191elapse: 0.146 min\n",
            "  - [Info] Maximum validation loglikelihood:-30065.4082 \n",
            "[ Epoch 5 ]\n",
            "  - (Training)     KL:  69517.1101, loglikelihood: -976.1205 ,elapse: 0.692 min\n",
            "  - (validation)  loglikelihood: -15049.4346elapse: 0.165 min\n",
            "  - (test)  loglikelihood: -15155.6006elapse: 0.147 min\n",
            "  - [Info] Maximum validation loglikelihood:-15049.4346 \n",
            "[ Epoch 6 ]\n",
            "  - (Training)     KL:  68933.6622, loglikelihood: -485.7958 ,elapse: 0.672 min\n",
            "  - (validation)  loglikelihood: -6313.9150elapse: 0.164 min\n",
            "  - (test)  loglikelihood: -6355.9829elapse: 0.148 min\n",
            "  - [Info] Maximum validation loglikelihood:-6313.9150 \n",
            "[ Epoch 7 ]\n",
            "  - (Training)     KL:  68347.7266, loglikelihood: -260.3310 ,elapse: 0.666 min\n",
            "  - (validation)  loglikelihood: -2812.8650elapse: 0.150 min\n",
            "  - (test)  loglikelihood: -2822.0552elapse: 0.149 min\n",
            "  - [Info] Maximum validation loglikelihood:-2812.8650 \n",
            "[ Epoch 8 ]\n",
            "  - (Training)     KL:  67756.0439, loglikelihood: -158.1878 ,elapse: 0.671 min\n",
            "  - (validation)  loglikelihood: -1573.8866elapse: 0.165 min\n",
            "  - (test)  loglikelihood: -1584.4587elapse: 0.151 min\n",
            "  - [Info] Maximum validation loglikelihood:-1573.8866 \n",
            "[ Epoch 9 ]\n",
            "  - (Training)     KL:  67140.5832, loglikelihood: -111.7932 ,elapse: 0.683 min\n",
            "  - (validation)  loglikelihood: -1047.4806elapse: 0.167 min\n",
            "  - (test)  loglikelihood: -1050.4576elapse: 0.153 min\n",
            "  - [Info] Maximum validation loglikelihood:-1047.4806 \n",
            "[ Epoch 10 ]\n",
            "  - (Training)     KL:  66498.1971, loglikelihood: -88.9582 ,elapse: 0.701 min\n",
            "  - (validation)  loglikelihood: -812.9094elapse: 0.166 min\n",
            "  - (test)  loglikelihood: -807.8773elapse: 0.151 min\n",
            "  - [Info] Maximum validation loglikelihood:-812.9094 \n"
          ]
        }
      ],
      "source": [
        "!python PAIN_MAVEN_ERE.py"
      ]
    },
    {
      "cell_type": "code",
      "execution_count": null,
      "metadata": {
        "colab": {
          "base_uri": "https://localhost:8080/"
        },
        "id": "AJF1AXzs7FtQ",
        "outputId": "688aaa76-0f36-47da-ca34-0997988270dc"
      },
      "outputs": [
        {
          "name": "stdout",
          "output_type": "stream",
          "text": [
            "[Info] parameters: Namespace(data='data/MAVEN_ERE/', prior='prior/MAVEN_ERE/sparse/', epoch=1, batch_size=16, d_model=512, d_inner=256, d_k=256, d_v=256, n_head=4, n_layers=4, dropout=0.1, lr=0.0001, num_samples=1, event_interest=10, threshold=0.5, device=device(type='cuda'))\n",
            "[Info] Loading train data...\n",
            "[Info] Loading dev data...\n",
            "[Info] Loading test data...\n",
            "[Info] Loading prior ...\n",
            "[Info] Number of parameters: 10360728\n",
            "threshold is 0.5 ; Event interest is 10\n",
            "[ Epoch 1 ]\n",
            "  - (Training)                           KL:   0.1230, loglikelihood: -13.3467, elapse: 1.280 min\n",
            "  - (Validation)                                 loglikelihood:  -2.9570, elapse: 0.214 min\n",
            "  - (Test)                                       loglikelihood:  -2.9165, elapse: 0.216 min\n",
            "  - [Info] Maximum validation                    loglikelihood:  -2.9570 \n",
            "test log likelihood is -2.9164583683013916\n",
            "total training time is 132.20911526679993\n"
          ]
        }
      ],
      "source": [
        "!python PAIN_Main_MAVEN_ERE.py -data data/MAVEN_ERE/ -prior prior/MAVEN_ERE/sparse/ -epoch 1 -batch_size 16 -d_model 512 -d_inner 256 -d_k 256 -d_v 256 -n_head 4 -n_layers 4 -dropout 0.1 -lr 1e-4 -num_samples 1 -event_interest 10 -threshold 0.5"
      ]
    },
    {
      "cell_type": "markdown",
      "metadata": {
        "id": "mXzRA7bI5SCz"
      },
      "source": [
        "# Running the PC_TES model using MAVEN_ERE data"
      ]
    },
    {
      "cell_type": "code",
      "execution_count": null,
      "metadata": {
        "colab": {
          "base_uri": "https://localhost:8080/"
        },
        "id": "iqXVap2NANft",
        "outputId": "d1559254-b1e0-4273-d13f-c1c3a15eb709"
      },
      "outputs": [
        {
          "name": "stdout",
          "output_type": "stream",
          "text": [
            "[Info] parameters: ArgumentParser(prog='PC_TES_MAVEN_ERE.py', usage=None, description=None, formatter_class=<class 'argparse.HelpFormatter'>, conflict_handler='error', add_help=True)\n",
            "[Info] Loading train data...\n",
            "[Info] Loading dev data...\n",
            "[Info] Loading test data...\n",
            "[Info] Number of parameters: 1461563\n",
            "[ Epoch 1 ]\n",
            "  - (Training)     loglikelihood: -1277.0822 ,elapse: 0.377 min\n",
            "  - (validation)  loglikelihood: -19780.3633elapse: 0.063 min\n",
            "  - (test)  loglikelihood: -19933.2871elapse: 0.069 min\n",
            "  - [Info] Maximum validation loglikelihood:-19780.3633 \n",
            "[ Epoch 2 ]\n",
            "  - (Training)     loglikelihood: -42.1600 ,elapse: 0.344 min\n",
            "  - (validation)  loglikelihood: -340.0664elapse: 0.065 min\n",
            "  - (test)  loglikelihood: -339.5497elapse: 0.073 min\n",
            "  - [Info] Maximum validation loglikelihood:-340.0664 \n",
            "[ Epoch 3 ]\n",
            "  - (Training)     loglikelihood: -16.3485 ,elapse: 0.356 min\n",
            "  - (validation)  loglikelihood: -159.2427elapse: 0.067 min\n",
            "  - (test)  loglikelihood: -158.9843elapse: 0.067 min\n",
            "  - [Info] Maximum validation loglikelihood:-159.2427 \n",
            "[ Epoch 4 ]\n",
            "  - (Training)     loglikelihood: -11.7911 ,elapse: 0.357 min\n",
            "  - (validation)  loglikelihood: -132.9966elapse: 0.066 min\n",
            "  - (test)  loglikelihood: -132.8334elapse: 0.068 min\n",
            "  - [Info] Maximum validation loglikelihood:-132.9966 \n",
            "[ Epoch 5 ]\n",
            "  - (Training)     loglikelihood:  -9.7651 ,elapse: 0.353 min\n",
            "  - (validation)  loglikelihood: -123.7595elapse: 0.065 min\n",
            "  - (test)  loglikelihood: -123.6513elapse: 0.066 min\n",
            "  - [Info] Maximum validation loglikelihood:-123.7595 \n",
            "[ Epoch 6 ]\n",
            "  - (Training)     loglikelihood:  -8.6782 ,elapse: 0.358 min\n",
            "  - (validation)  loglikelihood: -119.1483elapse: 0.066 min\n",
            "  - (test)  loglikelihood: -119.0667elapse: 0.065 min\n",
            "  - [Info] Maximum validation loglikelihood:-119.1483 \n",
            "[ Epoch 7 ]\n",
            "  - (Training)     loglikelihood:  -8.0172 ,elapse: 0.354 min\n",
            "  - (validation)  loglikelihood: -116.5870elapse: 0.066 min\n",
            "  - (test)  loglikelihood: -116.5239elapse: 0.065 min\n",
            "  - [Info] Maximum validation loglikelihood:-116.5870 \n",
            "[ Epoch 8 ]\n",
            "  - (Training)     loglikelihood:  -7.6655 ,elapse: 0.359 min\n",
            "  - (validation)  loglikelihood: -114.9360elapse: 0.068 min\n",
            "  - (test)  loglikelihood: -114.8905elapse: 0.067 min\n",
            "  - [Info] Maximum validation loglikelihood:-114.9360 \n",
            "[ Epoch 9 ]\n",
            "  - (Training)     loglikelihood:  -7.3031 ,elapse: 0.358 min\n",
            "  - (validation)  loglikelihood: -113.7969elapse: 0.066 min\n",
            "  - (test)  loglikelihood: -113.7529elapse: 0.065 min\n",
            "  - [Info] Maximum validation loglikelihood:-113.7969 \n",
            "[ Epoch 10 ]\n",
            "  - (Training)     loglikelihood:  -7.1410 ,elapse: 0.354 min\n",
            "  - (validation)  loglikelihood: -113.0053elapse: 0.066 min\n",
            "  - (test)  loglikelihood: -112.9651elapse: 0.066 min\n",
            "  - [Info] Maximum validation loglikelihood:-113.0053 \n"
          ]
        }
      ],
      "source": [
        "!python PC_TES_MAVEN_ERE.py"
      ]
    },
    {
      "cell_type": "code",
      "execution_count": null,
      "metadata": {
        "colab": {
          "base_uri": "https://localhost:8080/"
        },
        "id": "AnZPVS3NAhxq",
        "outputId": "9c40b053-adb4-443d-d342-a15dfeef71b0"
      },
      "outputs": [
        {
          "name": "stdout",
          "output_type": "stream",
          "text": [
            "[Info] parameters: Namespace(data='data/MAVEN_ERE/', epoch=3, batch_size=32, d_model=512, d_inner=256, d_k=256, d_v=256, n_head=4, n_layers=4, dropout=0.1, lr=0.0001, type_z=[5], type_y=[8], sle=1, excites=1, alpha=0.001, device=device(type='cuda'))\n",
            "[Info] Loading train data...\n",
            "[Info] Loading dev data...\n",
            "[Info] Loading test data...\n",
            "[Info] Number of parameters: 10360728\n",
            "[ Epoch 1 ]\n",
            "  - (Training)                loglikelihood: -50.6220, elapse: 0.631 min\n",
            "  - (Validation)              loglikelihood: -476.4171, elapse: 0.112 min\n",
            "  - (Test)                    loglikelihood: -473.1268, elapse: 0.103 min\n",
            "  - [Info] Maximum validation loglikelihood: -476.4171 \n",
            "[ Epoch 2 ]\n",
            "  - (Training)                loglikelihood: -12.0325, elapse: 0.665 min\n",
            "  - (Validation)              loglikelihood: -143.3072, elapse: 0.109 min\n",
            "  - (Test)                    loglikelihood: -142.9879, elapse: 0.100 min\n",
            "  - [Info] Maximum validation loglikelihood: -143.3072 \n",
            "[ Epoch 3 ]\n",
            "  - (Training)                loglikelihood:  -9.2678, elapse: 0.654 min\n",
            "  - (Validation)              loglikelihood: -126.7961, elapse: 0.100 min\n",
            "  - (Test)                    loglikelihood: -126.6703, elapse: 0.108 min\n",
            "  - [Info] Maximum validation loglikelihood: -126.7961 \n",
            "test log likelihood is -126.6703109741211\n",
            "total training time is 172.79043889045715\n"
          ]
        }
      ],
      "source": [
        "!python PC_TES_Main_MAVEN_ERE.py -data data/MAVEN_ERE/ -epoch 3 -batch_size 32 -d_model 512 -d_inner 256 -d_k 256 -d_v 256 -n_head 4 -n_layers 4 -dropout 0.1 -lr 1e-4 -type_z 5 -type_y 8 -sle 1 -excites 1 -alpha 0.001"
      ]
    }
  ],
  "metadata": {
    "accelerator": "GPU",
    "colab": {
      "gpuType": "T4",
      "provenance": []
    },
    "kernelspec": {
      "display_name": "Python 3",
      "name": "python3"
    },
    "language_info": {
      "name": "python"
    }
  },
  "nbformat": 4,
  "nbformat_minor": 0
}
